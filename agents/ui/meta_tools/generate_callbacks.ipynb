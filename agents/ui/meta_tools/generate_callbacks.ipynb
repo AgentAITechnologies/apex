{
 "cells": [
  {
   "cell_type": "code",
   "execution_count": 1,
   "metadata": {},
   "outputs": [],
   "source": [
    "import os\n",
    "import json\n",
    "from pprint import pprint"
   ]
  },
  {
   "cell_type": "code",
   "execution_count": 2,
   "metadata": {},
   "outputs": [
    {
     "data": {
      "text/plain": [
       "True"
      ]
     },
     "execution_count": 2,
     "metadata": {},
     "output_type": "execute_result"
    }
   ],
   "source": [
    "import dotenv\n",
    "\n",
    "dotenv.load_dotenv(os.path.join(\"..\", \"..\", \"..\", \".env\"))"
   ]
  },
  {
   "cell_type": "code",
   "execution_count": 3,
   "metadata": {},
   "outputs": [
    {
     "data": {
      "text/plain": [
       "'data/output/'"
      ]
     },
     "execution_count": 3,
     "metadata": {},
     "output_type": "execute_result"
    }
   ],
   "source": [
    "os.environ.get(\"OUTPUT_DIR\")"
   ]
  },
  {
   "cell_type": "code",
   "execution_count": 4,
   "metadata": {},
   "outputs": [],
   "source": [
    "import sys\n",
    "sys.path.append('..')  # Add the UI directory to the module search path\n",
    "\n",
    "import state_management\n",
    "from state_management import ConversationStateMachine"
   ]
  },
  {
   "cell_type": "code",
   "execution_count": 5,
   "metadata": {},
   "outputs": [],
   "source": [
    "with open(os.path.join(\"..\", os.environ.get(\"INPUT_DIR\"), \"states.json\")) as file:\n",
    "    state_data = json.load(file)\n",
    "\n",
    "with open(os.path.join(\"..\", os.environ.get(\"INPUT_DIR\"), \"transitions.json\")) as file:\n",
    "    transition_data = json.load(file)"
   ]
  },
  {
   "cell_type": "code",
   "execution_count": 6,
   "metadata": {},
   "outputs": [
    {
     "data": {
      "text/html": [
       "<pre style=\"white-space:pre;overflow-x:auto;line-height:normal;font-family:Menlo,'DejaVu Sans Mono',consolas,'Courier New',monospace\"><span style=\"color: #800000; text-decoration-color: #800000; font-weight: bold\"> [CS] no callback found for state root</span>\n",
       "</pre>\n"
      ],
      "text/plain": [
       "\u001b[1;31m \u001b[0m\u001b[1;31m[\u001b[0m\u001b[1;31mCS\u001b[0m\u001b[1;31m]\u001b[0m\u001b[1;31m no callback found for state root\u001b[0m\n"
      ]
     },
     "metadata": {},
     "output_type": "display_data"
    },
    {
     "data": {
      "text/html": [
       "<pre style=\"white-space:pre;overflow-x:auto;line-height:normal;font-family:Menlo,'DejaVu Sans Mono',consolas,'Courier New',monospace\"><span style=\"color: #800000; text-decoration-color: #800000; font-weight: bold\"> [CS] no callback found for state PrintUIMessage</span>\n",
       "</pre>\n"
      ],
      "text/plain": [
       "\u001b[1;31m \u001b[0m\u001b[1;31m[\u001b[0m\u001b[1;31mCS\u001b[0m\u001b[1;31m]\u001b[0m\u001b[1;31m no callback found for state PrintUIMessage\u001b[0m\n"
      ]
     },
     "metadata": {},
     "output_type": "display_data"
    },
    {
     "data": {
      "text/html": [
       "<pre style=\"white-space:pre;overflow-x:auto;line-height:normal;font-family:Menlo,'DejaVu Sans Mono',consolas,'Courier New',monospace\"><span style=\"color: #800000; text-decoration-color: #800000; font-weight: bold\"> [CS] no callback found for state AssignTask</span>\n",
       "</pre>\n"
      ],
      "text/plain": [
       "\u001b[1;31m \u001b[0m\u001b[1;31m[\u001b[0m\u001b[1;31mCS\u001b[0m\u001b[1;31m]\u001b[0m\u001b[1;31m no callback found for state AssignTask\u001b[0m\n"
      ]
     },
     "metadata": {},
     "output_type": "display_data"
    },
    {
     "data": {
      "text/html": [
       "<pre style=\"white-space:pre;overflow-x:auto;line-height:normal;font-family:Menlo,'DejaVu Sans Mono',consolas,'Courier New',monospace\"><span style=\"color: #800000; text-decoration-color: #800000; font-weight: bold\"> [CS] no callback found for state Exit</span>\n",
       "</pre>\n"
      ],
      "text/plain": [
       "\u001b[1;31m \u001b[0m\u001b[1;31m[\u001b[0m\u001b[1;31mCS\u001b[0m\u001b[1;31m]\u001b[0m\u001b[1;31m no callback found for state Exit\u001b[0m\n"
      ]
     },
     "metadata": {},
     "output_type": "display_data"
    },
    {
     "name": "stdout",
     "output_type": "stream",
     "text": [
      "['root', 'PrintUIMessage', 'AssignTask', 'Exit']\n"
     ]
    }
   ],
   "source": [
    "csm = ConversationStateMachine(state_data=state_data, transition_data=transition_data, init_state_path=\"PrintUIMessage\")\n",
    "pprint(list(csm.state_map.keys()))"
   ]
  },
  {
   "cell_type": "code",
   "execution_count": null,
   "metadata": {},
   "outputs": [],
   "source": [
    "# write the state names to a JSON file\n",
    "with open(os.path.join(\"..\", os.environ.get(\"OUTPUT_DIR\"), \"state_names.json\"), 'w') as file:\n",
    "    json.dump(list(csm.state_map.keys()), file)"
   ]
  },
  {
   "cell_type": "code",
   "execution_count": null,
   "metadata": {},
   "outputs": [],
   "source": [
    "# Load state_names from the JSON file\n",
    "file_path = os.path.join(\"..\", os.environ.get(\"OUTPUT_DIR\"), \"state_names.json\")\n",
    "\n",
    "with open(file_path, \"r\") as file:\n",
    "    state_names = json.load(file)\n",
    "\n",
    "callback_classes_code = \"\"\n",
    "\n",
    "for state_name in state_names:\n",
    "    callback_class_code = f\"\"\"\n",
    "class {state_name}_Callback(StateCallback):\n",
    "    def on_enter(self, csm, locals):\n",
    "        print(f\"Entering {state_name}\")\n",
    "        # Perform actions when entering {state_name}\n",
    "        pass\n",
    "\n",
    "    def on_exit(self, csm, locals):\n",
    "        print(f\"Exiting {state_name}\")\n",
    "        # Perform actions when exiting {state_name}\n",
    "        pass\n",
    "\"\"\"\n",
    "    callback_classes_code += callback_class_code\n",
    "\n",
    "# Execute the dynamically generated code\n",
    "# exec(callback_classes_code)\n",
    "print(callback_classes_code)"
   ]
  }
 ],
 "metadata": {
  "kernelspec": {
   "display_name": "Python 3",
   "language": "python",
   "name": "python3"
  },
  "language_info": {
   "codemirror_mode": {
    "name": "ipython",
    "version": 3
   },
   "file_extension": ".py",
   "mimetype": "text/x-python",
   "name": "python",
   "nbconvert_exporter": "python",
   "pygments_lexer": "ipython3",
   "version": "3.10.6"
  }
 },
 "nbformat": 4,
 "nbformat_minor": 2
}
