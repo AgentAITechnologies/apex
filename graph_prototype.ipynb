{
 "cells": [
  {
   "cell_type": "code",
   "execution_count": 1,
   "metadata": {},
   "outputs": [],
   "source": [
    "import json\n",
    "import pygraphviz as pgv\n",
    "import os\n",
    "import dotenv"
   ]
  },
  {
   "cell_type": "code",
   "execution_count": 2,
   "metadata": {},
   "outputs": [
    {
     "data": {
      "text/plain": [
       "True"
      ]
     },
     "execution_count": 2,
     "metadata": {},
     "output_type": "execute_result"
    }
   ],
   "source": [
    "dotenv.load_dotenv()"
   ]
  },
  {
   "cell_type": "code",
   "execution_count": 3,
   "metadata": {},
   "outputs": [],
   "source": [
    "class ConversationState:\n",
    "    def __init__(self, name=None, parent=None, system=\"\", system_frmtstrs={}, messages=[], messages_frmtstrs={}):\n",
    "        self.name = name\n",
    "\n",
    "        self.system_frmtstrs = system_frmtstrs\n",
    "        self.system = system\n",
    "\n",
    "        self.messages = messages\n",
    "        self.messages_frmtstrs = messages_frmtstrs\n",
    "\n",
    "        self.parent = parent\n",
    "\n",
    "        self.transitions = {}\n",
    "        self.children = []\n",
    "\n",
    "    def add_message(self, message):\n",
    "        self.messages.append(message)\n",
    "\n",
    "    def add_transition(self, trigger, next_state):\n",
    "        self.transitions[trigger] = next_state\n",
    "\n",
    "    def add_child(self, child_state):\n",
    "        self.children.append(child_state)\n",
    "        child_state.parent = self\n",
    "\n",
    "    def get_next_state(self, response):\n",
    "        if response in self.transitions:\n",
    "            return self.transitions[response]\n",
    "        elif self.parent:\n",
    "            return self.parent.get_next_state(response)\n",
    "        else:\n",
    "            return None\n",
    "\n",
    "    def get_root(self):\n",
    "        if self.parent:\n",
    "            return self.parent.get_root()\n",
    "        else:\n",
    "            return self\n",
    "\n",
    "    def get_hpath(self):\n",
    "        if self.parent and self.parent.name != \"root\":\n",
    "            return self.parent.get_hpath() + \"_\" + self.name\n",
    "        else:\n",
    "            return self.name"
   ]
  },
  {
   "cell_type": "code",
   "execution_count": 4,
   "metadata": {},
   "outputs": [],
   "source": [
    "class ConversationStateMachine:\n",
    "    PRINT_PREFIX = \"[CSM]\"\n",
    "\n",
    "    def __init__(self, state_data=None, transition_data=None, init_state_path=None):\n",
    "        self.initialize_conversation_states(state_data)\n",
    "        self.initialize_transitions(transition_data)\n",
    "        self.current_state = self.state_map[init_state_path]\n",
    "\n",
    "    def transition(self, trigger):\n",
    "        if trigger in self.current_state.transitions:\n",
    "            self.current_state = self.current_state.transitions[trigger]\n",
    "            return self.current_state\n",
    "        else:\n",
    "            print(f\"{self.PRINT_PREFIX} invalid trigger '{trigger}' for state {self.current_state.get_hpath()}\")\n",
    "            return None\n",
    "\n",
    "    def initialize_conversation_states(self, state_data):\n",
    "        def create_state(state_data, parent=None):\n",
    "            state = ConversationState(name=state_data[\"name\"],\n",
    "                                      parent=parent,\n",
    "                                      system=state_data.get(\"system\", \"\"),\n",
    "                                      system_frmtstrs=state_data.get(\"system_frmtstrs\", {}),\n",
    "                                      messages=state_data.get(\"messages\", []),\n",
    "                                      messages_frmtstrs = state_data.get(\"messages_frmtstrs\", {}))\n",
    "\n",
    "            for child_data in state_data.get(\"children\", []):\n",
    "                child_state = create_state(child_data, parent=state)\n",
    "                state.add_child(child_state)\n",
    "\n",
    "            return state\n",
    "\n",
    "        self.root_state = create_state(state_data)\n",
    "\n",
    "    def find_state_by_path(self, path):\n",
    "            return self.state_map.get(path)\n",
    "    \n",
    "    def initialize_transitions(self, transition_data=None):\n",
    "        self.transition_data = transition_data\n",
    "        self.state_map = {}\n",
    "\n",
    "        def traverse_and_map_states(state):\n",
    "            self.state_map[state.get_hpath()] = state\n",
    "            for child in state.children:\n",
    "                traverse_and_map_states(child)\n",
    "\n",
    "        traverse_and_map_states(self.root_state)\n",
    "\n",
    "        for transition in transition_data:\n",
    "            trigger = transition[\"trigger\"]\n",
    "            source_paths = transition[\"source\"]\n",
    "            dest_path = transition[\"dest\"]\n",
    "\n",
    "            if not isinstance(source_paths, list):\n",
    "                source_paths = [source_paths]\n",
    "\n",
    "            for source_path in source_paths:\n",
    "                source_path = source_path\n",
    "                source_state = self.find_state_by_path(source_path)\n",
    "                dest_state = self.find_state_by_path(dest_path)\n",
    "\n",
    "                if source_state and dest_state:\n",
    "                    source_state.add_transition(trigger, dest_state)\n",
    "                else:\n",
    "                    print(f\"{self.PRINT_PREFIX} Warning: Invalid transition - Source: {source_path}, Destination: {dest_path}\")\n",
    "\n",
    "    def visualize(self):\n",
    "        graph = pgv.AGraph(directed=True)\n",
    "\n",
    "        graph.graph_attr['fontname'] = 'Consolas'\n",
    "        graph.node_attr['fontname'] = 'Consolas'\n",
    "        graph.node_attr['shape'] = 'box'\n",
    "        graph.node_attr['style'] = 'rounded'\n",
    "        graph.edge_attr['fontname'] = 'Consolas'\n",
    "\n",
    "        def add_state_to_graph(state, parent_subgraph=None):\n",
    "            if parent_subgraph is None:\n",
    "                subgraph = graph\n",
    "            else:\n",
    "                subgraph = parent_subgraph.add_subgraph(name=f\"cluster_{state.get_hpath()}\")\n",
    "                subgraph.graph_attr['style'] = 'rounded'\n",
    "\n",
    "            if not (parent_subgraph is None):\n",
    "                subgraph.add_node(state.get_hpath(), label=state.name)\n",
    "\n",
    "            for child in state.children:\n",
    "                add_state_to_graph(child, subgraph)\n",
    "\n",
    "        add_state_to_graph(self.root_state)\n",
    "\n",
    "        for transition in self.transition_data:\n",
    "            trigger = transition[\"trigger\"]\n",
    "            source_paths = transition[\"source\"]\n",
    "            dest_path = transition[\"dest\"]\n",
    "\n",
    "            if not isinstance(source_paths, list):\n",
    "                source_paths = [source_paths]\n",
    "\n",
    "            for source_path in source_paths:\n",
    "                source_state = graph.get_node(source_path)\n",
    "                dest_state = graph.get_node(dest_path)\n",
    "\n",
    "                if source_state and dest_state:\n",
    "                    graph.add_edge(source_state, dest_state, label=trigger)\n",
    "\n",
    "        graph.layout(prog='dot')\n",
    "        \n",
    "        if not os.path.exists(os.environ.get(\"OUTPUT_DIR\")):\n",
    "            os.makedirs(os.environ.get(\"OUTPUT_DIR\"))\n",
    "            \n",
    "        graph.draw(os.path.join(os.environ.get(\"OUTPUT_DIR\"), 'state_diagram.png'))\n",
    "     \n",
    "    def print_current_state(self):\n",
    "        print(f\"{self.PRINT_PREFIX} self.current_state: {self.current_state}\")\n",
    "        print(f\"{self.PRINT_PREFIX} self.current_state.get_hpath(): {self.current_state.get_hpath()}\")\n",
    "\n",
    "    def print_state_hierarchy(self, state=None, level=0):\n",
    "        if state == None:\n",
    "            state = self.root_state\n",
    "\n",
    "        print(self.PRINT_PREFIX + \"  \" * (level+1) + state.get_hpath())\n",
    "        for child in state.children:\n",
    "            self.print_state_hierarchy(child, level + 1)"
   ]
  },
  {
   "cell_type": "code",
   "execution_count": 5,
   "metadata": {},
   "outputs": [],
   "source": [
    "with open(os.path.join(os.environ.get(\"INPUT_DIR\"), \"states.json\")) as file:\n",
    "    state_data = json.load(file)\n",
    "\n",
    "with open(os.path.join(os.environ.get(\"INPUT_DIR\"), \"transitions.json\")) as file:\n",
    "    transition_data = json.load(file)"
   ]
  },
  {
   "cell_type": "code",
   "execution_count": 6,
   "metadata": {},
   "outputs": [],
   "source": [
    "csm = ConversationStateMachine(state_data=state_data, transition_data=transition_data, init_state_path='start')"
   ]
  },
  {
   "cell_type": "code",
   "execution_count": 7,
   "metadata": {},
   "outputs": [
    {
     "name": "stdout",
     "output_type": "stream",
     "text": [
      "[CSM]  root\n",
      "[CSM]    start\n",
      "[CSM]      start_select-ready\n",
      "[CSM]    notready\n",
      "[CSM]      notready_select-get-set-state\n",
      "[CSM]        notready_select-get-set-state_get-state\n",
      "[CSM]          notready_select-get-set-state_get-state_select-tool\n",
      "[CSM]            notready_select-get-set-state_get-state_select-tool_compose-question\n",
      "[CSM]            notready_select-get-set-state_get-state_select-tool_compose-python\n",
      "[CSM]            notready_select-get-set-state_get-state_select-tool_compose-powershell\n",
      "[CSM]            notready_select-get-set-state_get-state_select-tool_compose-screenshot\n",
      "[CSM]        notready_select-get-set-state_set-state\n",
      "[CSM]          notready_select-get-set-state_set-state_select-tool\n",
      "[CSM]            notready_select-get-set-state_set-state_select-tool_compose-message\n",
      "[CSM]            notready_select-get-set-state_set-state_select-tool_compose-python\n",
      "[CSM]            notready_select-get-set-state_set-state_select-tool_compose-powershell\n",
      "[CSM]            notready_select-get-set-state_set-state_select-tool_compose-screenshot\n",
      "[CSM]      notready_select-ready\n",
      "[CSM]    ready\n",
      "[CSM]      ready_select-tool\n",
      "[CSM]        ready_select-tool_compose-message\n",
      "[CSM]        ready_select-tool_compose-python\n",
      "[CSM]        ready_select-tool_compose-powershell\n",
      "[CSM]        ready_select-tool_compose-screenshot\n",
      "[CSM]      ready_select-done\n",
      "[CSM]      ready_failure-reflection\n",
      "[CSM]        ready_failure-reflection_identify-problems\n",
      "[CSM]        ready_failure-reflection_select-ready\n",
      "[CSM]    done\n"
     ]
    }
   ],
   "source": [
    "csm.print_state_hierarchy()"
   ]
  },
  {
   "cell_type": "code",
   "execution_count": 8,
   "metadata": {},
   "outputs": [],
   "source": [
    "csm.visualize()"
   ]
  },
  {
   "cell_type": "code",
   "execution_count": 9,
   "metadata": {},
   "outputs": [
    {
     "name": "stdout",
     "output_type": "stream",
     "text": [
      "[CSM] self.current_state: <__main__.ConversationState object at 0x000001C9DE1C2440>\n",
      "[CSM] self.current_state.get_hpath(): start\n"
     ]
    }
   ],
   "source": [
    "csm.print_current_state()"
   ]
  },
  {
   "cell_type": "code",
   "execution_count": 10,
   "metadata": {},
   "outputs": [
    {
     "data": {
      "text/plain": [
       "{'selectready': <__main__.ConversationState at 0x1c9de1c3970>}"
      ]
     },
     "execution_count": 10,
     "metadata": {},
     "output_type": "execute_result"
    }
   ],
   "source": [
    "csm.current_state.transitions"
   ]
  },
  {
   "cell_type": "code",
   "execution_count": 11,
   "metadata": {},
   "outputs": [
    {
     "data": {
      "text/plain": [
       "<__main__.ConversationState at 0x1c9de1c3970>"
      ]
     },
     "execution_count": 11,
     "metadata": {},
     "output_type": "execute_result"
    }
   ],
   "source": [
    "csm.transition(\"selectready\")"
   ]
  },
  {
   "cell_type": "code",
   "execution_count": 12,
   "metadata": {},
   "outputs": [
    {
     "name": "stdout",
     "output_type": "stream",
     "text": [
      "[CSM] self.current_state: <__main__.ConversationState object at 0x000001C9DE1C3970>\n",
      "[CSM] self.current_state.get_hpath(): start_select-ready\n"
     ]
    }
   ],
   "source": [
    "csm.print_current_state()"
   ]
  },
  {
   "cell_type": "code",
   "execution_count": 13,
   "metadata": {},
   "outputs": [
    {
     "data": {
      "text/plain": [
       "'system_start_select-ready.md'"
      ]
     },
     "execution_count": 13,
     "metadata": {},
     "output_type": "execute_result"
    }
   ],
   "source": [
    "csm.current_state.system"
   ]
  },
  {
   "cell_type": "code",
   "execution_count": 14,
   "metadata": {},
   "outputs": [
    {
     "data": {
      "text/plain": [
       "[{'role': 'user',\n",
       "  'content': [{'type': 'text',\n",
       "    'text': 'Do you need to get any additional information or context from the user or system or do you need to configure the system into a specific state to perform the task \"{task}\"? Why or why not?'}]}]"
      ]
     },
     "execution_count": 14,
     "metadata": {},
     "output_type": "execute_result"
    }
   ],
   "source": [
    "csm.current_state.messages"
   ]
  },
  {
   "cell_type": "code",
   "execution_count": 15,
   "metadata": {},
   "outputs": [],
   "source": [
    "csm.current_state.messages_frmtstrs[\"dynamic_cow\"] = \"dynamic moo\""
   ]
  },
  {
   "cell_type": "code",
   "execution_count": 16,
   "metadata": {},
   "outputs": [
    {
     "ename": "KeyError",
     "evalue": "'task'",
     "output_type": "error",
     "traceback": [
      "\u001b[1;31m---------------------------------------------------------------------------\u001b[0m",
      "\u001b[1;31mKeyError\u001b[0m                                  Traceback (most recent call last)",
      "Cell \u001b[1;32mIn[16], line 1\u001b[0m\n\u001b[1;32m----> 1\u001b[0m csm\u001b[38;5;241m.\u001b[39mcurrent_state\u001b[38;5;241m.\u001b[39mmessages[\u001b[38;5;241m0\u001b[39m][\u001b[38;5;124m\"\u001b[39m\u001b[38;5;124mcontent\u001b[39m\u001b[38;5;124m\"\u001b[39m][\u001b[38;5;241m0\u001b[39m][\u001b[38;5;124m\"\u001b[39m\u001b[38;5;124mtext\u001b[39m\u001b[38;5;124m\"\u001b[39m]\u001b[38;5;241m.\u001b[39mformat(\u001b[38;5;241m*\u001b[39m\u001b[38;5;241m*\u001b[39mcsm\u001b[38;5;241m.\u001b[39mcurrent_state\u001b[38;5;241m.\u001b[39mmessages_frmtstrs)\n",
      "\u001b[1;31mKeyError\u001b[0m: 'task'"
     ]
    }
   ],
   "source": [
    "csm.current_state.messages[0][\"content\"][0][\"text\"].format(**csm.current_state.messages_frmtstrs)"
   ]
  }
 ],
 "metadata": {
  "kernelspec": {
   "display_name": "Python 3",
   "language": "python",
   "name": "python3"
  },
  "language_info": {
   "codemirror_mode": {
    "name": "ipython",
    "version": 3
   },
   "file_extension": ".py",
   "mimetype": "text/x-python",
   "name": "python",
   "nbconvert_exporter": "python",
   "pygments_lexer": "ipython3",
   "version": "3.10.6"
  }
 },
 "nbformat": 4,
 "nbformat_minor": 2
}
