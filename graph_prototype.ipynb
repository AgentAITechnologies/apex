{
 "cells": [
  {
   "cell_type": "code",
   "execution_count": 35,
   "metadata": {},
   "outputs": [],
   "source": [
    "import json\n",
    "import pygraphviz as pgv\n",
    "import os\n",
    "import dotenv"
   ]
  },
  {
   "cell_type": "code",
   "execution_count": 36,
   "metadata": {},
   "outputs": [
    {
     "data": {
      "text/plain": [
       "True"
      ]
     },
     "execution_count": 36,
     "metadata": {},
     "output_type": "execute_result"
    }
   ],
   "source": [
    "dotenv.load_dotenv()"
   ]
  },
  {
   "cell_type": "code",
   "execution_count": 37,
   "metadata": {},
   "outputs": [],
   "source": [
    "class ConversationState:\n",
    "    def __init__(self, name=None, parent=None):\n",
    "        self.name = name\n",
    "\n",
    "        self.system = \"\"\n",
    "        self.messages = []\n",
    "\n",
    "        self.transitions = {}\n",
    "        self.parent = parent\n",
    "        self.children = []\n",
    "\n",
    "    def add_message(self, message):\n",
    "        self.messages.append(message)\n",
    "\n",
    "    def add_transition(self, trigger, next_state):\n",
    "        self.transitions[trigger] = next_state\n",
    "\n",
    "    def add_child(self, child_state):\n",
    "        self.children.append(child_state)\n",
    "        child_state.parent = self\n",
    "\n",
    "    def get_next_state(self, response):\n",
    "        if response in self.transitions:\n",
    "            return self.transitions[response]\n",
    "        elif self.parent:\n",
    "            return self.parent.get_next_state(response)\n",
    "        else:\n",
    "            return None\n",
    "\n",
    "    def get_root(self):\n",
    "        if self.parent:\n",
    "            return self.parent.get_root()\n",
    "        else:\n",
    "            return self\n",
    "\n",
    "    def get_hierarchy_path(self):\n",
    "        if self.parent and self.parent.name != \"root\":\n",
    "            return self.parent.get_hierarchy_path() + \"_\" + self.name\n",
    "        else:\n",
    "            return self.name"
   ]
  },
  {
   "cell_type": "code",
   "execution_count": 38,
   "metadata": {},
   "outputs": [],
   "source": [
    "class ConversationStateMachine:\n",
    "    def __init__(self, root_state=None, init_state=None):\n",
    "        self.root_state = root_state\n",
    "        self.current_state = init_state\n",
    "\n",
    "    def transition(self, trigger):\n",
    "        if trigger in self.current_state.transitions:\n",
    "            self.current_state = self.current_state.transitions[trigger]\n",
    "            return self.current_state\n",
    "        else:\n",
    "            print(f\"invalid trigger '{trigger}' for state {self.current_state.get_hierarchy_path()}\")\n",
    "            return None\n",
    "        \n",
    "    def print_state(self):\n",
    "        print(f\"[CSM] self.current_state: {self.current_state}\")\n",
    "        print(f\"[CSM] self.current_state.get_hierarchy_path(): {self.current_state.get_hierarchy_path()}\")"
   ]
  },
  {
   "cell_type": "code",
   "execution_count": 39,
   "metadata": {},
   "outputs": [],
   "source": [
    "def initialize_conversation_states(json_data):\n",
    "    def create_state(state_data, parent=None):\n",
    "        state = ConversationState(name=state_data[\"name\"], parent=parent)\n",
    "        state.system = state_data.get(\"system\", \"\")\n",
    "        state.messages = state_data.get(\"messages\", [])\n",
    "\n",
    "        for child_data in state_data.get(\"children\", []):\n",
    "            child_state = create_state(child_data, parent=state)\n",
    "            state.add_child(child_state)\n",
    "\n",
    "        return state\n",
    "\n",
    "    root_state = create_state(json_data)\n",
    "    return root_state"
   ]
  },
  {
   "cell_type": "code",
   "execution_count": 40,
   "metadata": {},
   "outputs": [],
   "source": [
    "def apply_transitions(root_state, transitions_data):\n",
    "    state_map = {}\n",
    "\n",
    "    def traverse_and_map_states(state):\n",
    "        state_map[state.get_hierarchy_path()] = state\n",
    "        for child in state.children:\n",
    "            traverse_and_map_states(child)\n",
    "\n",
    "    def find_state_by_path(path):\n",
    "        return state_map.get(path)\n",
    "\n",
    "    traverse_and_map_states(root_state)\n",
    "\n",
    "    for transition in transitions_data:\n",
    "        trigger = transition[\"trigger\"]\n",
    "        source_paths = transition[\"source\"]\n",
    "        dest_path = transition[\"dest\"]\n",
    "\n",
    "        if not isinstance(source_paths, list):\n",
    "            source_paths = [source_paths]\n",
    "\n",
    "        for source_path in source_paths:\n",
    "            source_path = source_path\n",
    "            source_state = find_state_by_path(source_path)\n",
    "            dest_state = find_state_by_path(dest_path)\n",
    "\n",
    "            if source_state and dest_state:\n",
    "                source_state.add_transition(trigger, dest_state)\n",
    "            else:\n",
    "                print(f\"Warning: Invalid transition - Source: {source_path}, Destination: {dest_path}\")"
   ]
  },
  {
   "cell_type": "code",
   "execution_count": 41,
   "metadata": {},
   "outputs": [],
   "source": [
    "def visualize_conversation_states(root_state, transitions_data):\n",
    "    graph = pgv.AGraph(directed=True)\n",
    "\n",
    "    graph.graph_attr['fontname'] = 'Consolas'\n",
    "    graph.node_attr['fontname'] = 'Consolas'\n",
    "    graph.node_attr['shape'] = 'box'\n",
    "    graph.node_attr['style'] = 'rounded'\n",
    "    graph.edge_attr['fontname'] = 'Consolas'\n",
    "\n",
    "    def add_state_to_graph(state, parent_subgraph=None):\n",
    "        if parent_subgraph is None:\n",
    "            subgraph = graph\n",
    "        else:\n",
    "            subgraph = parent_subgraph.add_subgraph(name=f\"cluster_{state.get_hierarchy_path()}\")\n",
    "            subgraph.graph_attr['style'] = 'rounded'\n",
    "\n",
    "        if not (parent_subgraph is None):\n",
    "            subgraph.add_node(state.get_hierarchy_path(), label=state.name)\n",
    "\n",
    "        for child in state.children:\n",
    "            add_state_to_graph(child, subgraph)\n",
    "\n",
    "    add_state_to_graph(root_state)\n",
    "\n",
    "    for transition in transitions_data:\n",
    "        trigger = transition[\"trigger\"]\n",
    "        source_paths = transition[\"source\"]\n",
    "        dest_path = transition[\"dest\"]\n",
    "\n",
    "        if not isinstance(source_paths, list):\n",
    "            source_paths = [source_paths]\n",
    "\n",
    "        for source_path in source_paths:\n",
    "            source_state = graph.get_node(source_path)\n",
    "            dest_state = graph.get_node(dest_path)\n",
    "\n",
    "            if source_state and dest_state:\n",
    "                graph.add_edge(source_state, dest_state, label=trigger)\n",
    "\n",
    "    graph.layout(prog='dot')\n",
    "    \n",
    "    if not os.path.exists(os.environ.get(\"OUTPUT_DIR\")):\n",
    "        os.makedirs(os.environ.get(\"OUTPUT_DIR\"))\n",
    "        \n",
    "    graph.draw(os.path.join(os.environ.get(\"OUTPUT_DIR\"), 'state_diagram.png'))"
   ]
  },
  {
   "cell_type": "code",
   "execution_count": 42,
   "metadata": {},
   "outputs": [],
   "source": [
    "def print_state_hierarchy(state, level=0):\n",
    "    print(\"  \" * level + state.get_hierarchy_path())\n",
    "    for child in state.children:\n",
    "        print_state_hierarchy(child, level + 1)"
   ]
  },
  {
   "cell_type": "code",
   "execution_count": 43,
   "metadata": {},
   "outputs": [],
   "source": [
    "with open(os.path.join(os.environ.get(\"INPUT_DIR\"), \"states.json\")) as file:\n",
    "    json_data = json.load(file)\n",
    "\n",
    "with open(os.path.join(os.environ.get(\"INPUT_DIR\"), \"transitions.json\")) as file:\n",
    "    transitions_data = json.load(file)"
   ]
  },
  {
   "cell_type": "code",
   "execution_count": 44,
   "metadata": {},
   "outputs": [
    {
     "name": "stdout",
     "output_type": "stream",
     "text": [
      "root\n",
      "  start\n",
      "    start_select-ready\n",
      "  notready\n",
      "    notready_select-get-set-state\n",
      "      notready_select-get-set-state_get-state\n",
      "        notready_select-get-set-state_get-state_select-tool\n",
      "          notready_select-get-set-state_get-state_select-tool_compose-question\n",
      "          notready_select-get-set-state_get-state_select-tool_compose-python\n",
      "          notready_select-get-set-state_get-state_select-tool_compose-powershell\n",
      "          notready_select-get-set-state_get-state_select-tool_compose-screenshot\n",
      "      notready_select-get-set-state_set-state\n",
      "        notready_select-get-set-state_set-state_select-tool\n",
      "          notready_select-get-set-state_set-state_select-tool_compose-message\n",
      "          notready_select-get-set-state_set-state_select-tool_compose-python\n",
      "          notready_select-get-set-state_set-state_select-tool_compose-powershell\n",
      "          notready_select-get-set-state_set-state_select-tool_compose-screenshot\n",
      "    notready_select-ready\n",
      "  ready\n",
      "    ready_select-tool\n",
      "      ready_select-tool_compose-message\n",
      "      ready_select-tool_compose-python\n",
      "      ready_select-tool_compose-powershell\n",
      "      ready_select-tool_compose-screenshot\n",
      "    ready_select-done\n",
      "  failure-reflection\n",
      "  done\n"
     ]
    }
   ],
   "source": [
    "root_state = initialize_conversation_states(json_data)\n",
    "\n",
    "\n",
    "print_state_hierarchy(root_state)\n",
    "\n",
    "apply_transitions(root_state, transitions_data)\n",
    "\n",
    "visualize_conversation_states(root_state, transitions_data)"
   ]
  },
  {
   "cell_type": "code",
   "execution_count": 45,
   "metadata": {},
   "outputs": [
    {
     "name": "stdout",
     "output_type": "stream",
     "text": [
      "<__main__.ConversationState object at 0x00000229B017E770>\n"
     ]
    },
    {
     "data": {
      "text/plain": [
       "'start'"
      ]
     },
     "execution_count": 45,
     "metadata": {},
     "output_type": "execute_result"
    }
   ],
   "source": [
    "init_state = None\n",
    "for state in root_state.children:\n",
    "    if state.name == \"start\":\n",
    "        init_state = state\n",
    "        break\n",
    "print(init_state)\n",
    "init_state.name"
   ]
  },
  {
   "cell_type": "code",
   "execution_count": 46,
   "metadata": {},
   "outputs": [],
   "source": [
    "csm = ConversationStateMachine(root_state=root_state, init_state=init_state)"
   ]
  },
  {
   "cell_type": "code",
   "execution_count": 47,
   "metadata": {},
   "outputs": [
    {
     "name": "stdout",
     "output_type": "stream",
     "text": [
      "[CSM] self.current_state: <__main__.ConversationState object at 0x00000229B017E770>\n",
      "[CSM] self.current_state.get_hierarchy_path(): start\n"
     ]
    }
   ],
   "source": [
    "csm.print_state()"
   ]
  },
  {
   "cell_type": "code",
   "execution_count": 48,
   "metadata": {},
   "outputs": [
    {
     "data": {
      "text/plain": [
       "{'selectready': <__main__.ConversationState at 0x229b017d6c0>}"
      ]
     },
     "execution_count": 48,
     "metadata": {},
     "output_type": "execute_result"
    }
   ],
   "source": [
    "csm.current_state.transitions"
   ]
  },
  {
   "cell_type": "code",
   "execution_count": 49,
   "metadata": {},
   "outputs": [
    {
     "data": {
      "text/plain": [
       "<__main__.ConversationState at 0x229b017d6c0>"
      ]
     },
     "execution_count": 49,
     "metadata": {},
     "output_type": "execute_result"
    }
   ],
   "source": [
    "csm.transition(\"selectready\")"
   ]
  },
  {
   "cell_type": "code",
   "execution_count": 50,
   "metadata": {},
   "outputs": [
    {
     "name": "stdout",
     "output_type": "stream",
     "text": [
      "[CSM] self.current_state: <__main__.ConversationState object at 0x00000229B017D6C0>\n",
      "[CSM] self.current_state.get_hierarchy_path(): start_select-ready\n"
     ]
    }
   ],
   "source": [
    "csm.print_state()"
   ]
  },
  {
   "cell_type": "code",
   "execution_count": 51,
   "metadata": {},
   "outputs": [
    {
     "data": {
      "text/plain": [
       "'test'"
      ]
     },
     "execution_count": 51,
     "metadata": {},
     "output_type": "execute_result"
    }
   ],
   "source": [
    "csm.current_state.system"
   ]
  },
  {
   "cell_type": "code",
   "execution_count": 52,
   "metadata": {},
   "outputs": [
    {
     "data": {
      "text/plain": [
       "[{'role': 'user', 'content': [{'type': 'text', 'text': 'userprompt'}]}]"
      ]
     },
     "execution_count": 52,
     "metadata": {},
     "output_type": "execute_result"
    }
   ],
   "source": [
    "csm.current_state.messages"
   ]
  }
 ],
 "metadata": {
  "kernelspec": {
   "display_name": "Python 3",
   "language": "python",
   "name": "python3"
  },
  "language_info": {
   "codemirror_mode": {
    "name": "ipython",
    "version": 3
   },
   "file_extension": ".py",
   "mimetype": "text/x-python",
   "name": "python",
   "nbconvert_exporter": "python",
   "pygments_lexer": "ipython3",
   "version": "3.10.6"
  }
 },
 "nbformat": 4,
 "nbformat_minor": 2
}
