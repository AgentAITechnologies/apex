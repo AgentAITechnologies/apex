{
 "cells": [
  {
   "cell_type": "code",
   "execution_count": null,
   "metadata": {},
   "outputs": [],
   "source": [
    "import os\n",
    "import json\n",
    "from pprint import pprint"
   ]
  },
  {
   "cell_type": "code",
   "execution_count": null,
   "metadata": {},
   "outputs": [],
   "source": [
    "import dotenv\n",
    "\n",
    "dotenv.load_dotenv(os.path.join(\"..\", \"..\", \".env\"))"
   ]
  },
  {
   "cell_type": "code",
   "execution_count": null,
   "metadata": {},
   "outputs": [],
   "source": [
    "os.environ.get(\"OUTPUT_DIR\")"
   ]
  },
  {
   "cell_type": "code",
   "execution_count": null,
   "metadata": {},
   "outputs": [],
   "source": [
    "import sys\n",
    "sys.path.append('..')\n",
    "sys.path.append(os.path.join('..', \"agents\"))\n",
    "\n",
    "import state_management\n",
    "from state_management import ConversationStateMachine"
   ]
  },
  {
   "cell_type": "code",
   "execution_count": null,
   "metadata": {},
   "outputs": [],
   "source": [
    "with open(os.path.join(os.environ.get(\"INPUT_DIR\"), \"states.json\")) as file:\n",
    "    state_data = json.load(file)\n",
    "\n",
    "with open(os.path.join(os.environ.get(\"INPUT_DIR\"), \"transitions.json\")) as file:\n",
    "    transition_data = json.load(file)"
   ]
  },
  {
   "cell_type": "code",
   "execution_count": null,
   "metadata": {},
   "outputs": [],
   "source": [
    "csm = ConversationStateMachine(state_data=state_data, transition_data=transition_data, init_state_path=\"AwaitIPC\")\n",
    "pprint(list(csm.state_map.keys()))"
   ]
  },
  {
   "cell_type": "code",
   "execution_count": null,
   "metadata": {},
   "outputs": [],
   "source": [
    "# write the state names to a JSON file\n",
    "with open(os.path.join(os.environ.get(\"OUTPUT_DIR\"), \"state_names.json\"), 'w') as file:\n",
    "    json.dump(list(csm.state_map.keys()), file)"
   ]
  },
  {
   "cell_type": "code",
   "execution_count": null,
   "metadata": {},
   "outputs": [],
   "source": [
    "# Load state_names from the JSON file\n",
    "file_path = os.path.join(os.environ.get(\"OUTPUT_DIR\"), \"state_names.json\")\n",
    "\n",
    "with open(file_path, \"r\") as file:\n",
    "    state_names = json.load(file)\n",
    "\n",
    "callback_classes_code = \"\"\n",
    "\n",
    "for state_name in state_names:\n",
    "    callback_class_code = f\"\"\"\n",
    "class {state_name}_Callback(StateCallback):\n",
    "    def on_enter(self, csm, locals):\n",
    "        print(f\"{{self.PRINT_PREFIX}} Entering {state_name}\")\n",
    "        # Perform actions when entering {state_name}\n",
    "        pass\n",
    "\n",
    "    def on_exit(self, csm, locals):\n",
    "        print(f\"{{self.PRINT_PREFIX}} Exiting {state_name}\")\n",
    "        # Perform actions when exiting {state_name}\n",
    "        pass\n",
    "\"\"\"\n",
    "    callback_classes_code += callback_class_code\n",
    "\n",
    "# Execute the dynamically generated code\n",
    "# exec(callback_classes_code)\n",
    "print(callback_classes_code)"
   ]
  }
 ],
 "metadata": {
  "kernelspec": {
   "display_name": "Python 3",
   "language": "python",
   "name": "python3"
  },
  "language_info": {
   "codemirror_mode": {
    "name": "ipython",
    "version": 3
   },
   "file_extension": ".py",
   "mimetype": "text/x-python",
   "name": "python",
   "nbconvert_exporter": "python",
   "pygments_lexer": "ipython3",
   "version": "3.10.6"
  }
 },
 "nbformat": 4,
 "nbformat_minor": 2
}
