{
 "cells": [
  {
   "cell_type": "code",
   "execution_count": 1,
   "metadata": {},
   "outputs": [],
   "source": [
    "import os\n",
    "import json\n",
    "# from rich import print"
   ]
  },
  {
   "cell_type": "code",
   "execution_count": 2,
   "metadata": {},
   "outputs": [],
   "source": [
    "import sys\n",
    "sys.path.append(os.path.join('..', '..', '..'))\n",
    "sys.path.append(os.path.join('..','..', '..', '..'))\n",
    "\n",
    "from state_management import ConversationStateMachine"
   ]
  },
  {
   "cell_type": "code",
   "execution_count": 3,
   "metadata": {},
   "outputs": [],
   "source": [
    "with open(\"states.json\") as file:\n",
    "    state_data = json.load(file)\n",
    "\n",
    "with open(\"transitions.json\") as file:\n",
    "    transition_data = json.load(file)"
   ]
  },
  {
   "cell_type": "code",
   "execution_count": 4,
   "metadata": {},
   "outputs": [
    {
     "data": {
      "text/html": [
       "<pre style=\"white-space:pre;overflow-x:auto;line-height:normal;font-family:Menlo,'DejaVu Sans Mono',consolas,'Courier New',monospace\"><span style=\"color: #800000; text-decoration-color: #800000; font-weight: bold\">[CSM] [CS] no callback found for state Plan</span>\n",
       "</pre>\n"
      ],
      "text/plain": [
       "\u001b[1;31m[\u001b[0m\u001b[1;31mCSM\u001b[0m\u001b[1;31m]\u001b[0m\u001b[1;31m \u001b[0m\u001b[1;31m[\u001b[0m\u001b[1;31mCS\u001b[0m\u001b[1;31m]\u001b[0m\u001b[1;31m no callback found for state Plan\u001b[0m\n"
      ]
     },
     "metadata": {},
     "output_type": "display_data"
    },
    {
     "data": {
      "text/html": [
       "<pre style=\"white-space:pre;overflow-x:auto;line-height:normal;font-family:Menlo,'DejaVu Sans Mono',consolas,'Courier New',monospace\"><span style=\"color: #800000; text-decoration-color: #800000; font-weight: bold\">[CSM] [CS] no callback found for state PlanVote</span>\n",
       "</pre>\n"
      ],
      "text/plain": [
       "\u001b[1;31m[\u001b[0m\u001b[1;31mCSM\u001b[0m\u001b[1;31m]\u001b[0m\u001b[1;31m \u001b[0m\u001b[1;31m[\u001b[0m\u001b[1;31mCS\u001b[0m\u001b[1;31m]\u001b[0m\u001b[1;31m no callback found for state PlanVote\u001b[0m\n"
      ]
     },
     "metadata": {},
     "output_type": "display_data"
    },
    {
     "data": {
      "text/html": [
       "<pre style=\"white-space:pre;overflow-x:auto;line-height:normal;font-family:Menlo,'DejaVu Sans Mono',consolas,'Courier New',monospace\"><span style=\"color: #800000; text-decoration-color: #800000; font-weight: bold\">[CSM] [CS] no callback found for state SumPlanVotes</span>\n",
       "</pre>\n"
      ],
      "text/plain": [
       "\u001b[1;31m[\u001b[0m\u001b[1;31mCSM\u001b[0m\u001b[1;31m]\u001b[0m\u001b[1;31m \u001b[0m\u001b[1;31m[\u001b[0m\u001b[1;31mCS\u001b[0m\u001b[1;31m]\u001b[0m\u001b[1;31m no callback found for state SumPlanVotes\u001b[0m\n"
      ]
     },
     "metadata": {},
     "output_type": "display_data"
    },
    {
     "data": {
      "text/html": [
       "<pre style=\"white-space:pre;overflow-x:auto;line-height:normal;font-family:Menlo,'DejaVu Sans Mono',consolas,'Courier New',monospace\"><span style=\"color: #800000; text-decoration-color: #800000; font-weight: bold\">[CSM] [CS] no callback found for state ChoosePlan</span>\n",
       "</pre>\n"
      ],
      "text/plain": [
       "\u001b[1;31m[\u001b[0m\u001b[1;31mCSM\u001b[0m\u001b[1;31m]\u001b[0m\u001b[1;31m \u001b[0m\u001b[1;31m[\u001b[0m\u001b[1;31mCS\u001b[0m\u001b[1;31m]\u001b[0m\u001b[1;31m no callback found for state ChoosePlan\u001b[0m\n"
      ]
     },
     "metadata": {},
     "output_type": "display_data"
    },
    {
     "data": {
      "text/html": [
       "<pre style=\"white-space:pre;overflow-x:auto;line-height:normal;font-family:Menlo,'DejaVu Sans Mono',consolas,'Courier New',monospace\"><span style=\"color: #800000; text-decoration-color: #800000; font-weight: bold\">[CSM] [CS] no callback found for state Propose</span>\n",
       "</pre>\n"
      ],
      "text/plain": [
       "\u001b[1;31m[\u001b[0m\u001b[1;31mCSM\u001b[0m\u001b[1;31m]\u001b[0m\u001b[1;31m \u001b[0m\u001b[1;31m[\u001b[0m\u001b[1;31mCS\u001b[0m\u001b[1;31m]\u001b[0m\u001b[1;31m no callback found for state Propose\u001b[0m\n"
      ]
     },
     "metadata": {},
     "output_type": "display_data"
    },
    {
     "data": {
      "text/html": [
       "<pre style=\"white-space:pre;overflow-x:auto;line-height:normal;font-family:Menlo,'DejaVu Sans Mono',consolas,'Courier New',monospace\"><span style=\"color: #800000; text-decoration-color: #800000; font-weight: bold\">[CSM] [CS] no callback found for state ProposeVote</span>\n",
       "</pre>\n"
      ],
      "text/plain": [
       "\u001b[1;31m[\u001b[0m\u001b[1;31mCSM\u001b[0m\u001b[1;31m]\u001b[0m\u001b[1;31m \u001b[0m\u001b[1;31m[\u001b[0m\u001b[1;31mCS\u001b[0m\u001b[1;31m]\u001b[0m\u001b[1;31m no callback found for state ProposeVote\u001b[0m\n"
      ]
     },
     "metadata": {},
     "output_type": "display_data"
    },
    {
     "data": {
      "text/html": [
       "<pre style=\"white-space:pre;overflow-x:auto;line-height:normal;font-family:Menlo,'DejaVu Sans Mono',consolas,'Courier New',monospace\"><span style=\"color: #800000; text-decoration-color: #800000; font-weight: bold\">[CSM] [CS] no callback found for state SumProposeVotes</span>\n",
       "</pre>\n"
      ],
      "text/plain": [
       "\u001b[1;31m[\u001b[0m\u001b[1;31mCSM\u001b[0m\u001b[1;31m]\u001b[0m\u001b[1;31m \u001b[0m\u001b[1;31m[\u001b[0m\u001b[1;31mCS\u001b[0m\u001b[1;31m]\u001b[0m\u001b[1;31m no callback found for state SumProposeVotes\u001b[0m\n"
      ]
     },
     "metadata": {},
     "output_type": "display_data"
    },
    {
     "data": {
      "text/html": [
       "<pre style=\"white-space:pre;overflow-x:auto;line-height:normal;font-family:Menlo,'DejaVu Sans Mono',consolas,'Courier New',monospace\"><span style=\"color: #800000; text-decoration-color: #800000; font-weight: bold\">[CSM] [CS] no callback found for state ChooseProposition</span>\n",
       "</pre>\n"
      ],
      "text/plain": [
       "\u001b[1;31m[\u001b[0m\u001b[1;31mCSM\u001b[0m\u001b[1;31m]\u001b[0m\u001b[1;31m \u001b[0m\u001b[1;31m[\u001b[0m\u001b[1;31mCS\u001b[0m\u001b[1;31m]\u001b[0m\u001b[1;31m no callback found for state ChooseProposition\u001b[0m\n"
      ]
     },
     "metadata": {},
     "output_type": "display_data"
    },
    {
     "data": {
      "text/html": [
       "<pre style=\"white-space:pre;overflow-x:auto;line-height:normal;font-family:Menlo,'DejaVu Sans Mono',consolas,'Courier New',monospace\"><span style=\"color: #800000; text-decoration-color: #800000; font-weight: bold\">[CSM] [CS] no callback found for state Exec</span>\n",
       "</pre>\n"
      ],
      "text/plain": [
       "\u001b[1;31m[\u001b[0m\u001b[1;31mCSM\u001b[0m\u001b[1;31m]\u001b[0m\u001b[1;31m \u001b[0m\u001b[1;31m[\u001b[0m\u001b[1;31mCS\u001b[0m\u001b[1;31m]\u001b[0m\u001b[1;31m no callback found for state Exec\u001b[0m\n"
      ]
     },
     "metadata": {},
     "output_type": "display_data"
    },
    {
     "data": {
      "text/html": [
       "<pre style=\"white-space:pre;overflow-x:auto;line-height:normal;font-family:Menlo,'DejaVu Sans Mono',consolas,'Courier New',monospace\"><span style=\"color: #800000; text-decoration-color: #800000; font-weight: bold\">[CSM] [CS] no callback found for state Done</span>\n",
       "</pre>\n"
      ],
      "text/plain": [
       "\u001b[1;31m[\u001b[0m\u001b[1;31mCSM\u001b[0m\u001b[1;31m]\u001b[0m\u001b[1;31m \u001b[0m\u001b[1;31m[\u001b[0m\u001b[1;31mCS\u001b[0m\u001b[1;31m]\u001b[0m\u001b[1;31m no callback found for state Done\u001b[0m\n"
      ]
     },
     "metadata": {},
     "output_type": "display_data"
    },
    {
     "data": {
      "text/html": [
       "<pre style=\"white-space:pre;overflow-x:auto;line-height:normal;font-family:Menlo,'DejaVu Sans Mono',consolas,'Courier New',monospace\"><span style=\"font-weight: bold\">[CSM]</span>  <span style=\"color: #808000; text-decoration-color: #808000\">root</span>\n",
       "</pre>\n"
      ],
      "text/plain": [
       "\u001b[1m[\u001b[0m\u001b[1mCSM\u001b[0m\u001b[1m]\u001b[0m  \u001b[33mroot\u001b[0m\n"
      ]
     },
     "metadata": {},
     "output_type": "display_data"
    },
    {
     "data": {
      "text/html": [
       "<pre style=\"white-space:pre;overflow-x:auto;line-height:normal;font-family:Menlo,'DejaVu Sans Mono',consolas,'Courier New',monospace\"><span style=\"font-weight: bold\">[CSM]</span>    <span style=\"color: #808000; text-decoration-color: #808000\">Plan</span>\n",
       "</pre>\n"
      ],
      "text/plain": [
       "\u001b[1m[\u001b[0m\u001b[1mCSM\u001b[0m\u001b[1m]\u001b[0m    \u001b[33mPlan\u001b[0m\n"
      ]
     },
     "metadata": {},
     "output_type": "display_data"
    },
    {
     "data": {
      "text/html": [
       "<pre style=\"white-space:pre;overflow-x:auto;line-height:normal;font-family:Menlo,'DejaVu Sans Mono',consolas,'Courier New',monospace\"><span style=\"font-weight: bold\">[CSM]</span>    <span style=\"color: #808000; text-decoration-color: #808000\">PlanVote</span>\n",
       "</pre>\n"
      ],
      "text/plain": [
       "\u001b[1m[\u001b[0m\u001b[1mCSM\u001b[0m\u001b[1m]\u001b[0m    \u001b[33mPlanVote\u001b[0m\n"
      ]
     },
     "metadata": {},
     "output_type": "display_data"
    },
    {
     "data": {
      "text/html": [
       "<pre style=\"white-space:pre;overflow-x:auto;line-height:normal;font-family:Menlo,'DejaVu Sans Mono',consolas,'Courier New',monospace\"><span style=\"font-weight: bold\">[CSM]</span>    <span style=\"color: #808000; text-decoration-color: #808000\">SumPlanVotes</span>\n",
       "</pre>\n"
      ],
      "text/plain": [
       "\u001b[1m[\u001b[0m\u001b[1mCSM\u001b[0m\u001b[1m]\u001b[0m    \u001b[33mSumPlanVotes\u001b[0m\n"
      ]
     },
     "metadata": {},
     "output_type": "display_data"
    },
    {
     "data": {
      "text/html": [
       "<pre style=\"white-space:pre;overflow-x:auto;line-height:normal;font-family:Menlo,'DejaVu Sans Mono',consolas,'Courier New',monospace\"><span style=\"font-weight: bold\">[CSM]</span>    <span style=\"color: #808000; text-decoration-color: #808000\">ChoosePlan</span>\n",
       "</pre>\n"
      ],
      "text/plain": [
       "\u001b[1m[\u001b[0m\u001b[1mCSM\u001b[0m\u001b[1m]\u001b[0m    \u001b[33mChoosePlan\u001b[0m\n"
      ]
     },
     "metadata": {},
     "output_type": "display_data"
    },
    {
     "data": {
      "text/html": [
       "<pre style=\"white-space:pre;overflow-x:auto;line-height:normal;font-family:Menlo,'DejaVu Sans Mono',consolas,'Courier New',monospace\"><span style=\"font-weight: bold\">[CSM]</span>    <span style=\"color: #808000; text-decoration-color: #808000\">Propose</span>\n",
       "</pre>\n"
      ],
      "text/plain": [
       "\u001b[1m[\u001b[0m\u001b[1mCSM\u001b[0m\u001b[1m]\u001b[0m    \u001b[33mPropose\u001b[0m\n"
      ]
     },
     "metadata": {},
     "output_type": "display_data"
    },
    {
     "data": {
      "text/html": [
       "<pre style=\"white-space:pre;overflow-x:auto;line-height:normal;font-family:Menlo,'DejaVu Sans Mono',consolas,'Courier New',monospace\"><span style=\"font-weight: bold\">[CSM]</span>    <span style=\"color: #808000; text-decoration-color: #808000\">ProposeVote</span>\n",
       "</pre>\n"
      ],
      "text/plain": [
       "\u001b[1m[\u001b[0m\u001b[1mCSM\u001b[0m\u001b[1m]\u001b[0m    \u001b[33mProposeVote\u001b[0m\n"
      ]
     },
     "metadata": {},
     "output_type": "display_data"
    },
    {
     "data": {
      "text/html": [
       "<pre style=\"white-space:pre;overflow-x:auto;line-height:normal;font-family:Menlo,'DejaVu Sans Mono',consolas,'Courier New',monospace\"><span style=\"font-weight: bold\">[CSM]</span>    <span style=\"color: #808000; text-decoration-color: #808000\">SumProposeVotes</span>\n",
       "</pre>\n"
      ],
      "text/plain": [
       "\u001b[1m[\u001b[0m\u001b[1mCSM\u001b[0m\u001b[1m]\u001b[0m    \u001b[33mSumProposeVotes\u001b[0m\n"
      ]
     },
     "metadata": {},
     "output_type": "display_data"
    },
    {
     "data": {
      "text/html": [
       "<pre style=\"white-space:pre;overflow-x:auto;line-height:normal;font-family:Menlo,'DejaVu Sans Mono',consolas,'Courier New',monospace\"><span style=\"font-weight: bold\">[CSM]</span>    <span style=\"color: #808000; text-decoration-color: #808000\">ChooseProposition</span>\n",
       "</pre>\n"
      ],
      "text/plain": [
       "\u001b[1m[\u001b[0m\u001b[1mCSM\u001b[0m\u001b[1m]\u001b[0m    \u001b[33mChooseProposition\u001b[0m\n"
      ]
     },
     "metadata": {},
     "output_type": "display_data"
    },
    {
     "data": {
      "text/html": [
       "<pre style=\"white-space:pre;overflow-x:auto;line-height:normal;font-family:Menlo,'DejaVu Sans Mono',consolas,'Courier New',monospace\"><span style=\"font-weight: bold\">[CSM]</span>    <span style=\"color: #808000; text-decoration-color: #808000\">Exec</span>\n",
       "</pre>\n"
      ],
      "text/plain": [
       "\u001b[1m[\u001b[0m\u001b[1mCSM\u001b[0m\u001b[1m]\u001b[0m    \u001b[33mExec\u001b[0m\n"
      ]
     },
     "metadata": {},
     "output_type": "display_data"
    },
    {
     "data": {
      "text/html": [
       "<pre style=\"white-space:pre;overflow-x:auto;line-height:normal;font-family:Menlo,'DejaVu Sans Mono',consolas,'Courier New',monospace\"><span style=\"font-weight: bold\">[CSM]</span>    <span style=\"color: #808000; text-decoration-color: #808000\">Done</span>\n",
       "</pre>\n"
      ],
      "text/plain": [
       "\u001b[1m[\u001b[0m\u001b[1mCSM\u001b[0m\u001b[1m]\u001b[0m    \u001b[33mDone\u001b[0m\n"
      ]
     },
     "metadata": {},
     "output_type": "display_data"
    },
    {
     "data": {
      "text/html": [
       "<pre style=\"white-space:pre;overflow-x:auto;line-height:normal;font-family:Menlo,'DejaVu Sans Mono',consolas,'Courier New',monospace\"><span style=\"font-weight: bold\">[CSM]</span> self.current_state: <span style=\"color: #808000; text-decoration-color: #808000; font-weight: bold\">&lt;state_management.ConversationState</span><span style=\"color: #808000; text-decoration-color: #808000\"> object at </span><span style=\"color: #808000; text-decoration-color: #808000; font-weight: bold\">0x0000024CE9A86FE0</span><span style=\"color: #808000; text-decoration-color: #808000; font-weight: bold\">&gt;</span>\n",
       "</pre>\n"
      ],
      "text/plain": [
       "\u001b[1m[\u001b[0m\u001b[1mCSM\u001b[0m\u001b[1m]\u001b[0m self.current_state: \u001b[1;33m<\u001b[0m\u001b[1;33mstate_management.ConversationState\u001b[0m\u001b[33m object at \u001b[0m\u001b[1;33m0x0000024CE9A86FE0\u001b[0m\u001b[1;33m>\u001b[0m\n"
      ]
     },
     "metadata": {},
     "output_type": "display_data"
    },
    {
     "data": {
      "text/html": [
       "<pre style=\"white-space:pre;overflow-x:auto;line-height:normal;font-family:Menlo,'DejaVu Sans Mono',consolas,'Courier New',monospace\"><span style=\"font-weight: bold\">[CSM]</span> <span style=\"color: #800080; text-decoration-color: #800080; font-weight: bold\">self.current_state.get_hpath</span><span style=\"font-weight: bold\">()</span>: <span style=\"color: #808000; text-decoration-color: #808000\">Plan</span>\n",
       "</pre>\n"
      ],
      "text/plain": [
       "\u001b[1m[\u001b[0m\u001b[1mCSM\u001b[0m\u001b[1m]\u001b[0m \u001b[1;35mself.current_state.get_hpath\u001b[0m\u001b[1m(\u001b[0m\u001b[1m)\u001b[0m: \u001b[33mPlan\u001b[0m\n"
      ]
     },
     "metadata": {},
     "output_type": "display_data"
    },
    {
     "name": "stdout",
     "output_type": "stream",
     "text": [
      "['root', 'Plan', 'PlanVote', 'SumPlanVotes', 'ChoosePlan', 'Propose', 'ProposeVote', 'SumProposeVotes', 'ChooseProposition', 'Exec', 'Done']\n"
     ]
    }
   ],
   "source": [
    "csm = ConversationStateMachine(state_data=state_data, transition_data=transition_data, init_state_path=\"Plan\")\n",
    "print(list(csm.state_map.keys()))"
   ]
  },
  {
   "cell_type": "code",
   "execution_count": 5,
   "metadata": {},
   "outputs": [
    {
     "data": {
      "text/plain": [
       "'\\nfile_path = os.path.join(\"state_names.json\")\\n\\nif not os.path.exists(file_path):\\n    with open(file_path, \\'w\\') as file:\\n        file.write(\\'\\')\\n\\n\\nwith open(\"state_names.json\", \\'w\\') as file:\\n    json.dump(list(csm.state_map.keys()), file)\\n    '"
      ]
     },
     "execution_count": 5,
     "metadata": {},
     "output_type": "execute_result"
    }
   ],
   "source": [
    "# write the state names to a JSON file\n",
    "# if it doesn't exist, create it\n",
    "\n",
    "'''\n",
    "file_path = os.path.join(\"state_names.json\")\n",
    "\n",
    "if not os.path.exists(file_path):\n",
    "    with open(file_path, 'w') as file:\n",
    "        file.write('')\n",
    "\n",
    "\n",
    "with open(\"state_names.json\", 'w') as file:\n",
    "    json.dump(list(csm.state_map.keys()), file)\n",
    "    '''"
   ]
  },
  {
   "cell_type": "code",
   "execution_count": 6,
   "metadata": {},
   "outputs": [
    {
     "name": "stdout",
     "output_type": "stream",
     "text": [
      "\n",
      "class root_Callback(StateCallback):\n",
      "    def on_enter(self, csm, locals):\n",
      "        print(f\"{self.PRINT_PREFIX} Entering root\")\n",
      "        # Perform actions when entering root\n",
      "        pass\n",
      "\n",
      "    def on_exit(self, csm, locals):\n",
      "        print(f\"{self.PRINT_PREFIX} Exiting root\")\n",
      "        # Perform actions when exiting root\n",
      "        pass\n",
      "\n",
      "class Plan_Callback(StateCallback):\n",
      "    def on_enter(self, csm, locals):\n",
      "        print(f\"{self.PRINT_PREFIX} Entering Plan\")\n",
      "        # Perform actions when entering Plan\n",
      "        pass\n",
      "\n",
      "    def on_exit(self, csm, locals):\n",
      "        print(f\"{self.PRINT_PREFIX} Exiting Plan\")\n",
      "        # Perform actions when exiting Plan\n",
      "        pass\n",
      "\n",
      "class PlanVote_Callback(StateCallback):\n",
      "    def on_enter(self, csm, locals):\n",
      "        print(f\"{self.PRINT_PREFIX} Entering PlanVote\")\n",
      "        # Perform actions when entering PlanVote\n",
      "        pass\n",
      "\n",
      "    def on_exit(self, csm, locals):\n",
      "        print(f\"{self.PRINT_PREFIX} Exiting PlanVote\")\n",
      "        # Perform actions when exiting PlanVote\n",
      "        pass\n",
      "\n",
      "class SumPlanVotes_Callback(StateCallback):\n",
      "    def on_enter(self, csm, locals):\n",
      "        print(f\"{self.PRINT_PREFIX} Entering SumPlanVotes\")\n",
      "        # Perform actions when entering SumPlanVotes\n",
      "        pass\n",
      "\n",
      "    def on_exit(self, csm, locals):\n",
      "        print(f\"{self.PRINT_PREFIX} Exiting SumPlanVotes\")\n",
      "        # Perform actions when exiting SumPlanVotes\n",
      "        pass\n",
      "\n",
      "class ChoosePlan_Callback(StateCallback):\n",
      "    def on_enter(self, csm, locals):\n",
      "        print(f\"{self.PRINT_PREFIX} Entering ChoosePlan\")\n",
      "        # Perform actions when entering ChoosePlan\n",
      "        pass\n",
      "\n",
      "    def on_exit(self, csm, locals):\n",
      "        print(f\"{self.PRINT_PREFIX} Exiting ChoosePlan\")\n",
      "        # Perform actions when exiting ChoosePlan\n",
      "        pass\n",
      "\n",
      "class Propose_Callback(StateCallback):\n",
      "    def on_enter(self, csm, locals):\n",
      "        print(f\"{self.PRINT_PREFIX} Entering Propose\")\n",
      "        # Perform actions when entering Propose\n",
      "        pass\n",
      "\n",
      "    def on_exit(self, csm, locals):\n",
      "        print(f\"{self.PRINT_PREFIX} Exiting Propose\")\n",
      "        # Perform actions when exiting Propose\n",
      "        pass\n",
      "\n",
      "class ProposeVote_Callback(StateCallback):\n",
      "    def on_enter(self, csm, locals):\n",
      "        print(f\"{self.PRINT_PREFIX} Entering ProposeVote\")\n",
      "        # Perform actions when entering ProposeVote\n",
      "        pass\n",
      "\n",
      "    def on_exit(self, csm, locals):\n",
      "        print(f\"{self.PRINT_PREFIX} Exiting ProposeVote\")\n",
      "        # Perform actions when exiting ProposeVote\n",
      "        pass\n",
      "\n",
      "class SumProposeVotes_Callback(StateCallback):\n",
      "    def on_enter(self, csm, locals):\n",
      "        print(f\"{self.PRINT_PREFIX} Entering SumProposeVotes\")\n",
      "        # Perform actions when entering SumProposeVotes\n",
      "        pass\n",
      "\n",
      "    def on_exit(self, csm, locals):\n",
      "        print(f\"{self.PRINT_PREFIX} Exiting SumProposeVotes\")\n",
      "        # Perform actions when exiting SumProposeVotes\n",
      "        pass\n",
      "\n",
      "class ChooseProposition_Callback(StateCallback):\n",
      "    def on_enter(self, csm, locals):\n",
      "        print(f\"{self.PRINT_PREFIX} Entering ChooseProposition\")\n",
      "        # Perform actions when entering ChooseProposition\n",
      "        pass\n",
      "\n",
      "    def on_exit(self, csm, locals):\n",
      "        print(f\"{self.PRINT_PREFIX} Exiting ChooseProposition\")\n",
      "        # Perform actions when exiting ChooseProposition\n",
      "        pass\n",
      "\n",
      "class Exec_Callback(StateCallback):\n",
      "    def on_enter(self, csm, locals):\n",
      "        print(f\"{self.PRINT_PREFIX} Entering Exec\")\n",
      "        # Perform actions when entering Exec\n",
      "        pass\n",
      "\n",
      "    def on_exit(self, csm, locals):\n",
      "        print(f\"{self.PRINT_PREFIX} Exiting Exec\")\n",
      "        # Perform actions when exiting Exec\n",
      "        pass\n",
      "\n",
      "class Done_Callback(StateCallback):\n",
      "    def on_enter(self, csm, locals):\n",
      "        print(f\"{self.PRINT_PREFIX} Entering Done\")\n",
      "        # Perform actions when entering Done\n",
      "        pass\n",
      "\n",
      "    def on_exit(self, csm, locals):\n",
      "        print(f\"{self.PRINT_PREFIX} Exiting Done\")\n",
      "        # Perform actions when exiting Done\n",
      "        pass\n",
      "\n"
     ]
    }
   ],
   "source": [
    "# Load state_names from the JSON file\n",
    "# file_path = os.path.join(\"state_names.json\")\n",
    "\n",
    "#with open(file_path, \"r\") as file:\n",
    "#    state_names = json.load(file)\n",
    "\n",
    "state_names = list(csm.state_map.keys())\n",
    "\n",
    "callback_classes_code = \"\"\n",
    "\n",
    "for state_name in state_names:\n",
    "    callback_class_code = f\"\"\"\n",
    "class {state_name}_Callback(StateCallback):\n",
    "    def on_enter(self, csm, locals):\n",
    "        print(f\"{{self.PRINT_PREFIX}} Entering {state_name}\")\n",
    "        # Perform actions when entering {state_name}\n",
    "        pass\n",
    "\n",
    "    def on_exit(self, csm, locals):\n",
    "        print(f\"{{self.PRINT_PREFIX}} Exiting {state_name}\")\n",
    "        # Perform actions when exiting {state_name}\n",
    "        pass\n",
    "\"\"\"\n",
    "    callback_classes_code += callback_class_code\n",
    "\n",
    "# Execute the dynamically generated code\n",
    "# exec(callback_classes_code)\n",
    "print(callback_classes_code)"
   ]
  }
 ],
 "metadata": {
  "kernelspec": {
   "display_name": "Python 3",
   "language": "python",
   "name": "python3"
  },
  "language_info": {
   "codemirror_mode": {
    "name": "ipython",
    "version": 3
   },
   "file_extension": ".py",
   "mimetype": "text/x-python",
   "name": "python",
   "nbconvert_exporter": "python",
   "pygments_lexer": "ipython3",
   "version": "3.10.6"
  }
 },
 "nbformat": 4,
 "nbformat_minor": 2
}
